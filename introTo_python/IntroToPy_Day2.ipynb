{
 "cells": [
  {
   "cell_type": "markdown",
   "metadata": {},
   "source": [
    "# Introduction to Python: Day 2\n",
    "**UO Library Data Services workshop**"
   ]
  },
  {
   "cell_type": "markdown",
   "metadata": {},
   "source": [
    "<img align=\"left\" width=\"300\" height=\"300\" src=\"https://www.python.org/static/community_logos/python-logo-master-v3-TM.png\">"
   ]
  },
  {
   "cell_type": "markdown",
   "metadata": {},
   "source": [
    "## Brief review\n",
    "\n",
    "**- Data types**\n",
    "\n",
    " - integers\n",
    " - floats\n",
    " - strings\n",
    " - booleans\n",
    " \n",
    "**- Operators that are specific to different data types**\n",
    "\n",
    "**- Variables can be used to assign a name to a specific element**\n",
    "\n",
    "**- Characters in a string can be indexed by their position**\n",
    "\n",
    " - Python indexing is zero-based\n",
    " - ranges are inclusive:exclusive\n",
    " - negative indices can be used to start with the last character in a string"
   ]
  },
  {
   "cell_type": "markdown",
   "metadata": {},
   "source": [
    "## Compound data types\n",
    "\n",
    " - lists\n",
    " - tuples\n",
    " - sets\n",
    " - dictionaries\n",
    " \n",
    "**Things to keep in mind**\n",
    "\n",
    " - mutability\n",
    " - order\n",
    " - efficiency (memory usage)"
   ]
  },
  {
   "cell_type": "markdown",
   "metadata": {},
   "source": [
    "### Lists\n",
    "\n",
    " - denoted by single set of brackets\n",
    " - mutable\n",
    " - ordered\n",
    " - inefficient in memory use"
   ]
  },
  {
   "cell_type": "code",
   "execution_count": 11,
   "metadata": {},
   "outputs": [
    {
     "name": "stdout",
     "output_type": "stream",
     "text": [
      "[60, 70, 30]\n"
     ]
    }
   ],
   "source": [
    "# can have lists of integers, floats, strings, lists, or other compound data types\n",
    "# or any of those in combination wih each other\n",
    "\n",
    "weight_one = 60\n",
    "weight_two = 70\n",
    "weight_three = 30\n",
    "\n",
    "weight_list = [weight_one, weight_two, weight_three]\n",
    "print(weight_list)"
   ]
  },
  {
   "cell_type": "code",
   "execution_count": 12,
   "metadata": {},
   "outputs": [
    {
     "name": "stdout",
     "output_type": "stream",
     "text": [
      "[[1, 2, 3], [4, 5, 6], [7, 8, 9]]\n"
     ]
    }
   ],
   "source": [
    "list_of_lists = [[1,2,3],[4,5,6],[7,8,9]]\n",
    "print(list_of_lists)"
   ]
  },
  {
   "cell_type": "code",
   "execution_count": 13,
   "metadata": {},
   "outputs": [
    {
     "name": "stdout",
     "output_type": "stream",
     "text": [
      "[1.1, 'hello', 6, [1, 2, 3]]\n"
     ]
    }
   ],
   "source": [
    "mixed_list = [1.1, \"hello\", 6, [1,2,3]]\n",
    "print(mixed_list)"
   ]
  },
  {
   "cell_type": "code",
   "execution_count": 4,
   "metadata": {},
   "outputs": [
    {
     "data": {
      "text/plain": [
       "60"
      ]
     },
     "execution_count": 4,
     "metadata": {},
     "output_type": "execute_result"
    }
   ],
   "source": [
    "# like characters in a strings, elements in a list can be indexed by position\n",
    "weight_list[0]"
   ]
  },
  {
   "cell_type": "code",
   "execution_count": 5,
   "metadata": {},
   "outputs": [
    {
     "data": {
      "text/plain": [
       "[70, 30]"
      ]
     },
     "execution_count": 5,
     "metadata": {},
     "output_type": "execute_result"
    }
   ],
   "source": [
    "weight_list[1:3]"
   ]
  },
  {
   "cell_type": "code",
   "execution_count": 6,
   "metadata": {},
   "outputs": [
    {
     "data": {
      "text/plain": [
       "30"
      ]
     },
     "execution_count": 6,
     "metadata": {},
     "output_type": "execute_result"
    }
   ],
   "source": [
    "weight_list[-1]"
   ]
  },
  {
   "cell_type": "code",
   "execution_count": 7,
   "metadata": {},
   "outputs": [
    {
     "data": {
      "text/plain": [
       "list"
      ]
     },
     "execution_count": 7,
     "metadata": {},
     "output_type": "execute_result"
    }
   ],
   "source": [
    "# lists have associated methods\n",
    "type(weight_list)"
   ]
  },
  {
   "cell_type": "code",
   "execution_count": 14,
   "metadata": {},
   "outputs": [
    {
     "name": "stdout",
     "output_type": "stream",
     "text": [
      "[60, 70, 30, 90]\n"
     ]
    }
   ],
   "source": [
    "weight_four = 90\n",
    "\n",
    "# methods are called like this: argument1.method(optinal arguments)\n",
    "# append is a method of class list that will add an element to the end of the given list\n",
    "weight_list.append(weight_four)\n",
    "print(weight_list)"
   ]
  },
  {
   "cell_type": "code",
   "execution_count": 15,
   "metadata": {},
   "outputs": [
    {
     "name": "stdout",
     "output_type": "stream",
     "text": [
      "[60, 70, 30]\n"
     ]
    }
   ],
   "source": [
    "weight_list.pop()\n",
    "print(weight_list)"
   ]
  },
  {
   "cell_type": "markdown",
   "metadata": {},
   "source": [
    "**Check out all of the list methods here:** https://docs.python.org/3/tutorial/datastructures.html\n",
    "\n",
    "**also remember to check the help pages:**"
   ]
  },
  {
   "cell_type": "code",
   "execution_count": null,
   "metadata": {},
   "outputs": [],
   "source": [
    "help(list)"
   ]
  },
  {
   "cell_type": "markdown",
   "metadata": {},
   "source": [
    "### Tuples\n",
    "\n",
    " - Denoted by parentheses\n",
    " - immutable\n",
    " - ordered\n",
    " - more memory efficient than lists"
   ]
  },
  {
   "cell_type": "code",
   "execution_count": 6,
   "metadata": {},
   "outputs": [
    {
     "name": "stdout",
     "output_type": "stream",
     "text": [
      "(60, 70, 30)\n"
     ]
    }
   ],
   "source": [
    "weight_tup = (60,70,30)\n",
    "print(weight_tup)"
   ]
  },
  {
   "cell_type": "markdown",
   "metadata": {},
   "source": [
    "### Sets\n",
    "\n",
    " - immutable\n",
    " - unordered\n",
    " - unique values only"
   ]
  },
  {
   "cell_type": "code",
   "execution_count": 5,
   "metadata": {},
   "outputs": [
    {
     "name": "stdout",
     "output_type": "stream",
     "text": [
      "{60, 70, 30}\n"
     ]
    }
   ],
   "source": [
    "weight_set = {70,60,60,30}\n",
    "print(weight_set)"
   ]
  },
  {
   "cell_type": "markdown",
   "metadata": {},
   "source": [
    "### Dictionaries\n",
    "\n",
    " - key:value pairs\n",
    " - constant look-up time"
   ]
  },
  {
   "cell_type": "code",
   "execution_count": 1,
   "metadata": {},
   "outputs": [
    {
     "name": "stdout",
     "output_type": "stream",
     "text": [
      "70\n"
     ]
    }
   ],
   "source": [
    "weight_dict = {\n",
    "    \"patient_x\": 60,\n",
    "    \"patient_y\": 70,\n",
    "    \"patient_z\": 30\n",
    "}\n",
    "\n",
    "print(weight_dict[\"patient_y\"])"
   ]
  },
  {
   "cell_type": "code",
   "execution_count": 9,
   "metadata": {},
   "outputs": [
    {
     "name": "stdout",
     "output_type": "stream",
     "text": [
      "{'patient_x': 60, 'patient_y': 70, 'patient_z': 30, 'patient_a': 80}\n"
     ]
    }
   ],
   "source": [
    "weight_dict[\"patient_a\"] = 80\n",
    "print(weight_dict)"
   ]
  },
  {
   "cell_type": "markdown",
   "metadata": {},
   "source": [
    "## Making choices with conditional statements\n",
    "\n",
    " - conditional statements allow code to be run only if the specific condition is met\n",
    " - if, elif, and else"
   ]
  },
  {
   "cell_type": "code",
   "execution_count": 34,
   "metadata": {},
   "outputs": [],
   "source": [
    "current_weight = 50"
   ]
  },
  {
   "cell_type": "code",
   "execution_count": 36,
   "metadata": {},
   "outputs": [
    {
     "name": "stdout",
     "output_type": "stream",
     "text": [
      "current weight is not greater than 50kg\n"
     ]
    }
   ],
   "source": [
    "if current_weight > 50:\n",
    "    print(current_weight)\n",
    "else:\n",
    "    print(\"current weight is not greater than 50kg\")"
   ]
  },
  {
   "cell_type": "code",
   "execution_count": 37,
   "metadata": {},
   "outputs": [
    {
     "name": "stdout",
     "output_type": "stream",
     "text": [
      "current weight is exactly 50kg\n"
     ]
    }
   ],
   "source": [
    "if current_weight > 50:\n",
    "    print(current_weight)\n",
    "elif current_weight == 50:\n",
    "    print(\"current weight is exactly 50kg\")\n",
    "else:\n",
    "    print(\"current weight is less than 50kg\")"
   ]
  },
  {
   "cell_type": "code",
   "execution_count": 39,
   "metadata": {},
   "outputs": [],
   "source": [
    "current_height = 90"
   ]
  },
  {
   "cell_type": "code",
   "execution_count": 42,
   "metadata": {},
   "outputs": [
    {
     "name": "stdout",
     "output_type": "stream",
     "text": [
      "140\n"
     ]
    }
   ],
   "source": [
    "if current_weight >= 50 and current_height > 70:\n",
    "    print(current_weight + current_height)"
   ]
  },
  {
   "cell_type": "markdown",
   "metadata": {},
   "source": [
    "## Repeating tasks with loops\n",
    "\n",
    " - loops are used to iterate over elements in an object"
   ]
  },
  {
   "cell_type": "code",
   "execution_count": null,
   "metadata": {},
   "outputs": [],
   "source": [
    "print(weight_list)"
   ]
  },
  {
   "cell_type": "code",
   "execution_count": null,
   "metadata": {},
   "outputs": [],
   "source": [
    "for element in weight_list:\n",
    "    if element > 50:\n",
    "        print(element)"
   ]
  },
  {
   "cell_type": "code",
   "execution_count": 2,
   "metadata": {},
   "outputs": [
    {
     "name": "stdout",
     "output_type": "stream",
     "text": [
      "70\n"
     ]
    }
   ],
   "source": [
    "for key in weight_dict:\n",
    "    if \"x\" not in key and weight_dict[key] > 50:\n",
    "            print(weight_dict[key])"
   ]
  },
  {
   "cell_type": "markdown",
   "metadata": {},
   "source": [
    "### There is *a lot* we haven't covered but hopefully you now feel comfortable to do some independent research!\n",
    "\n",
    "**Suggested topics:**\n",
    "\n",
    " - while loops\n",
    " - functions\n",
    " - error handling\n",
    " - debugging\n",
    " - running python scripts as command-line tools\n",
    " - classes, object-oriented programming\n",
    " \n",
    "**Useful resources:**\n",
    " \n",
    " - Python documentation: https://docs.python.org/3/\n",
    " - Software Carpentries, Programming with Python: https://swcarpentry.github.io/python-novice-inflammation/\n",
    " \n",
    "**Check out our next Python workshop:**\n",
    "\n",
    " - Data Science with Python: https://uoregon.libcal.com/event/7376458"
   ]
  }
 ],
 "metadata": {
  "kernelspec": {
   "display_name": "Python 3",
   "language": "python",
   "name": "python3"
  },
  "language_info": {
   "codemirror_mode": {
    "name": "ipython",
    "version": 3
   },
   "file_extension": ".py",
   "mimetype": "text/x-python",
   "name": "python",
   "nbconvert_exporter": "python",
   "pygments_lexer": "ipython3",
   "version": "3.7.4"
  }
 },
 "nbformat": 4,
 "nbformat_minor": 2
}
