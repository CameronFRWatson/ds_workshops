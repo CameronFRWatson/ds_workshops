{
 "cells": [
  {
   "cell_type": "markdown",
   "metadata": {},
   "source": [
    "# Introduction to Python: Day 2\n",
    "**UO Library Data Services workshop**"
   ]
  },
  {
   "cell_type": "markdown",
   "metadata": {},
   "source": [
    "<img align=\"left\" width=\"300\" height=\"300\" src=\"https://www.python.org/static/community_logos/python-logo-master-v3-TM.png\">"
   ]
  },
  {
   "cell_type": "markdown",
   "metadata": {},
   "source": [
    "## Brief review\n",
    "\n",
    "**- Data types**\n",
    "\n",
    " - integers\n",
    " - floats\n",
    " - strings\n",
    " - booleans\n",
    " \n",
    "**- Operators that are specific to different data types**\n",
    "\n",
    "**- Variables can be used to assign a name to a specific element**\n",
    "\n",
    "**- Characters in a string can be indexed by their position**\n",
    "\n",
    " - Python indexing is zero-based\n",
    " - ranges are inclusive:exclusive\n",
    " - negative indices can be used to start with the last character in a string"
   ]
  },
  {
   "cell_type": "markdown",
   "metadata": {},
   "source": [
    "## Compound data types\n",
    "\n",
    " - lists\n",
    " - tuples\n",
    " - sets\n",
    " - dictionaries\n",
    " \n",
    "**Things to keep in mind**\n",
    "\n",
    " - mutability\n",
    " - order\n",
    " - efficiency (memory usage)"
   ]
  },
  {
   "cell_type": "markdown",
   "metadata": {},
   "source": [
    "### Lists\n",
    "\n",
    " - denoted by single set of brackets\n",
    " - mutable\n",
    " - ordered\n",
    " - inefficient in memory use"
   ]
  },
  {
   "cell_type": "code",
   "execution_count": null,
   "metadata": {},
   "outputs": [],
   "source": []
  },
  {
   "cell_type": "code",
   "execution_count": null,
   "metadata": {},
   "outputs": [],
   "source": []
  },
  {
   "cell_type": "code",
   "execution_count": null,
   "metadata": {},
   "outputs": [],
   "source": []
  },
  {
   "cell_type": "markdown",
   "metadata": {},
   "source": [
    "### like characters in a strings, elements in a list can be indexed by position"
   ]
  },
  {
   "cell_type": "code",
   "execution_count": null,
   "metadata": {},
   "outputs": [],
   "source": []
  },
  {
   "cell_type": "code",
   "execution_count": null,
   "metadata": {},
   "outputs": [],
   "source": []
  },
  {
   "cell_type": "code",
   "execution_count": null,
   "metadata": {},
   "outputs": [],
   "source": []
  },
  {
   "cell_type": "markdown",
   "metadata": {},
   "source": [
    "### lists have associated methods"
   ]
  },
  {
   "cell_type": "code",
   "execution_count": null,
   "metadata": {},
   "outputs": [],
   "source": []
  },
  {
   "cell_type": "code",
   "execution_count": null,
   "metadata": {},
   "outputs": [],
   "source": []
  },
  {
   "cell_type": "code",
   "execution_count": null,
   "metadata": {},
   "outputs": [],
   "source": []
  },
  {
   "cell_type": "markdown",
   "metadata": {},
   "source": [
    "**Check out all of the list methods here:** https://docs.python.org/3/tutorial/datastructures.html\n",
    "\n",
    "**also remember to check the help pages:**"
   ]
  },
  {
   "cell_type": "code",
   "execution_count": null,
   "metadata": {},
   "outputs": [],
   "source": []
  },
  {
   "cell_type": "markdown",
   "metadata": {},
   "source": [
    "### Tuples\n",
    "\n",
    " - Denoted by parentheses\n",
    " - immutable\n",
    " - ordered\n",
    " - more memory efficient than lists"
   ]
  },
  {
   "cell_type": "code",
   "execution_count": null,
   "metadata": {},
   "outputs": [],
   "source": []
  },
  {
   "cell_type": "markdown",
   "metadata": {},
   "source": [
    "### Sets\n",
    "\n",
    " - immutable\n",
    " - unordered\n",
    " - unique values only"
   ]
  },
  {
   "cell_type": "code",
   "execution_count": null,
   "metadata": {},
   "outputs": [],
   "source": []
  },
  {
   "cell_type": "markdown",
   "metadata": {},
   "source": [
    "### Dictionaries\n",
    "\n",
    " - key:value pairs\n",
    " - constant look-up time"
   ]
  },
  {
   "cell_type": "code",
   "execution_count": null,
   "metadata": {},
   "outputs": [],
   "source": []
  },
  {
   "cell_type": "code",
   "execution_count": null,
   "metadata": {},
   "outputs": [],
   "source": []
  },
  {
   "cell_type": "code",
   "execution_count": null,
   "metadata": {},
   "outputs": [],
   "source": []
  },
  {
   "cell_type": "markdown",
   "metadata": {},
   "source": [
    "## Making choices with conditional statements\n",
    "\n",
    " - conditional statements allow code to be run only if the specific condition is met\n",
    " - if, elif, and else"
   ]
  },
  {
   "cell_type": "code",
   "execution_count": null,
   "metadata": {},
   "outputs": [],
   "source": []
  },
  {
   "cell_type": "code",
   "execution_count": null,
   "metadata": {},
   "outputs": [],
   "source": []
  },
  {
   "cell_type": "markdown",
   "metadata": {},
   "source": [
    "### *elif* allows for more than one condition to be assessed"
   ]
  },
  {
   "cell_type": "code",
   "execution_count": null,
   "metadata": {},
   "outputs": [],
   "source": []
  },
  {
   "cell_type": "markdown",
   "metadata": {},
   "source": [
    "### conditions can be linked with logical operators"
   ]
  },
  {
   "cell_type": "code",
   "execution_count": null,
   "metadata": {},
   "outputs": [],
   "source": []
  },
  {
   "cell_type": "code",
   "execution_count": null,
   "metadata": {},
   "outputs": [],
   "source": []
  },
  {
   "cell_type": "markdown",
   "metadata": {},
   "source": [
    "## Repeating tasks with loops\n",
    "\n",
    " - loops are used to iterate over elements in an object"
   ]
  },
  {
   "cell_type": "code",
   "execution_count": null,
   "metadata": {},
   "outputs": [],
   "source": []
  },
  {
   "cell_type": "code",
   "execution_count": null,
   "metadata": {},
   "outputs": [],
   "source": []
  },
  {
   "cell_type": "code",
   "execution_count": null,
   "metadata": {},
   "outputs": [],
   "source": []
  },
  {
   "cell_type": "code",
   "execution_count": null,
   "metadata": {},
   "outputs": [],
   "source": []
  },
  {
   "cell_type": "code",
   "execution_count": null,
   "metadata": {},
   "outputs": [],
   "source": []
  },
  {
   "cell_type": "markdown",
   "metadata": {},
   "source": [
    "### There is *a lot* we haven't covered but hopefully you now feel comfortable to do some independent research!\n",
    "\n",
    "**Suggested topics:**\n",
    "\n",
    " - while loops\n",
    " - functions\n",
    " - error handling\n",
    " - debugging\n",
    " - running python scripts as command-line tools\n",
    " - classes, object-oriented programming\n",
    " \n",
    "**Useful resources:**\n",
    " \n",
    " - Python documentation: https://docs.python.org/3/\n",
    " - Software Carpentries, Programming with Python: https://swcarpentry.github.io/python-novice-inflammation/\n",
    " \n",
    "**Check out our next Python workshop:**\n",
    "\n",
    " - Data Science with Python: https://uoregon.libcal.com/event/7376458"
   ]
  }
 ],
 "metadata": {
  "kernelspec": {
   "display_name": "Python 3",
   "language": "python",
   "name": "python3"
  },
  "language_info": {
   "codemirror_mode": {
    "name": "ipython",
    "version": 3
   },
   "file_extension": ".py",
   "mimetype": "text/x-python",
   "name": "python",
   "nbconvert_exporter": "python",
   "pygments_lexer": "ipython3",
   "version": "3.7.4"
  }
 },
 "nbformat": 4,
 "nbformat_minor": 2
}
